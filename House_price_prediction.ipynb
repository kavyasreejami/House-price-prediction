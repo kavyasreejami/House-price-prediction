{
  "nbformat": 4,
  "nbformat_minor": 0,
  "metadata": {
    "colab": {
      "provenance": []
    },
    "kernelspec": {
      "name": "python3",
      "display_name": "Python 3"
    },
    "language_info": {
      "name": "python"
    }
  },
  "cells": [
    {
      "cell_type": "code",
      "execution_count": null,
      "metadata": {
        "id": "JQ_ELqM46mdL"
      },
      "outputs": [],
      "source": [
        "import numpy as np\n",
        "import pandas as pd"
      ]
    },
    {
      "cell_type": "code",
      "source": [
        "import matplotlib.pyplot as plt\n",
        "import seaborn as sns"
      ],
      "metadata": {
        "id": "V00hRUvA7Puu"
      },
      "execution_count": null,
      "outputs": []
    },
    {
      "cell_type": "code",
      "source": [
        "df = pd.read_csv(\"house price data.csv\")"
      ],
      "metadata": {
        "id": "ABbhaycS8HdU"
      },
      "execution_count": null,
      "outputs": []
    },
    {
      "cell_type": "code",
      "source": [
        "house_price_data = print(df.head())"
      ],
      "metadata": {
        "colab": {
          "base_uri": "https://localhost:8080/"
        },
        "id": "pg996HED9A3o",
        "outputId": "716c97f0-58df-4d08-bb46-229a288538de"
      },
      "execution_count": null,
      "outputs": [
        {
          "output_type": "stream",
          "name": "stdout",
          "text": [
            "                  date      price  bedrooms  bathrooms  sqft_living  sqft_lot  \\\n",
            "0  2014-05-02 00:00:00   313000.0       3.0       1.50         1340      7912   \n",
            "1  2014-05-02 00:00:00  2384000.0       5.0       2.50         3650      9050   \n",
            "2  2014-05-02 00:00:00   342000.0       3.0       2.00         1930     11947   \n",
            "3  2014-05-02 00:00:00   420000.0       3.0       2.25         2000      8030   \n",
            "4  2014-05-02 00:00:00   550000.0       4.0       2.50         1940     10500   \n",
            "\n",
            "   floors  waterfront  view  condition  sqft_above  sqft_basement  yr_built  \\\n",
            "0     1.5           0     0          3        1340              0      1955   \n",
            "1     2.0           0     4          5        3370            280      1921   \n",
            "2     1.0           0     0          4        1930              0      1966   \n",
            "3     1.0           0     0          4        1000           1000      1963   \n",
            "4     1.0           0     0          4        1140            800      1976   \n",
            "\n",
            "   yr_renovated                    street       city  statezip country  \n",
            "0          2005      18810 Densmore Ave N  Shoreline  WA 98133     USA  \n",
            "1             0           709 W Blaine St    Seattle  WA 98119     USA  \n",
            "2             0  26206-26214 143rd Ave SE       Kent  WA 98042     USA  \n",
            "3             0           857 170th Pl NE   Bellevue  WA 98008     USA  \n",
            "4          1992         9105 170th Ave NE    Redmond  WA 98052     USA  \n"
          ]
        }
      ]
    },
    {
      "cell_type": "code",
      "source": [
        "df = house_price_data"
      ],
      "metadata": {
        "id": "vKqXkDhF_QH1"
      },
      "execution_count": null,
      "outputs": []
    },
    {
      "cell_type": "code",
      "source": [
        "df = pd.read_csv(\"house price data.csv\")\n",
        "\n",
        "#remove null values and duplicate values from the dataset\n",
        "df.dropna(inplace= True)\n",
        "print(df.head()) # Check if null values are removed\n",
        "df.drop_duplicates(inplace= True)\n",
        "print(df.head()) # Check if duplicate values are removed"
      ],
      "metadata": {
        "colab": {
          "base_uri": "https://localhost:8080/"
        },
        "id": "3LRr1NTg-AfC",
        "outputId": "a6a654ae-65cb-479b-d641-f2c5c05ff887"
      },
      "execution_count": null,
      "outputs": [
        {
          "output_type": "stream",
          "name": "stdout",
          "text": [
            "                  date      price  bedrooms  bathrooms  sqft_living  sqft_lot  \\\n",
            "0  2014-05-02 00:00:00   313000.0       3.0       1.50         1340      7912   \n",
            "1  2014-05-02 00:00:00  2384000.0       5.0       2.50         3650      9050   \n",
            "2  2014-05-02 00:00:00   342000.0       3.0       2.00         1930     11947   \n",
            "3  2014-05-02 00:00:00   420000.0       3.0       2.25         2000      8030   \n",
            "4  2014-05-02 00:00:00   550000.0       4.0       2.50         1940     10500   \n",
            "\n",
            "   floors  waterfront  view  condition  sqft_above  sqft_basement  yr_built  \\\n",
            "0     1.5           0     0          3        1340              0      1955   \n",
            "1     2.0           0     4          5        3370            280      1921   \n",
            "2     1.0           0     0          4        1930              0      1966   \n",
            "3     1.0           0     0          4        1000           1000      1963   \n",
            "4     1.0           0     0          4        1140            800      1976   \n",
            "\n",
            "   yr_renovated                    street       city  statezip country  \n",
            "0          2005      18810 Densmore Ave N  Shoreline  WA 98133     USA  \n",
            "1             0           709 W Blaine St    Seattle  WA 98119     USA  \n",
            "2             0  26206-26214 143rd Ave SE       Kent  WA 98042     USA  \n",
            "3             0           857 170th Pl NE   Bellevue  WA 98008     USA  \n",
            "4          1992         9105 170th Ave NE    Redmond  WA 98052     USA  \n",
            "                  date      price  bedrooms  bathrooms  sqft_living  sqft_lot  \\\n",
            "0  2014-05-02 00:00:00   313000.0       3.0       1.50         1340      7912   \n",
            "1  2014-05-02 00:00:00  2384000.0       5.0       2.50         3650      9050   \n",
            "2  2014-05-02 00:00:00   342000.0       3.0       2.00         1930     11947   \n",
            "3  2014-05-02 00:00:00   420000.0       3.0       2.25         2000      8030   \n",
            "4  2014-05-02 00:00:00   550000.0       4.0       2.50         1940     10500   \n",
            "\n",
            "   floors  waterfront  view  condition  sqft_above  sqft_basement  yr_built  \\\n",
            "0     1.5           0     0          3        1340              0      1955   \n",
            "1     2.0           0     4          5        3370            280      1921   \n",
            "2     1.0           0     0          4        1930              0      1966   \n",
            "3     1.0           0     0          4        1000           1000      1963   \n",
            "4     1.0           0     0          4        1140            800      1976   \n",
            "\n",
            "   yr_renovated                    street       city  statezip country  \n",
            "0          2005      18810 Densmore Ave N  Shoreline  WA 98133     USA  \n",
            "1             0           709 W Blaine St    Seattle  WA 98119     USA  \n",
            "2             0  26206-26214 143rd Ave SE       Kent  WA 98042     USA  \n",
            "3             0           857 170th Pl NE   Bellevue  WA 98008     USA  \n",
            "4          1992         9105 170th Ave NE    Redmond  WA 98052     USA  \n"
          ]
        }
      ]
    },
    {
      "cell_type": "code",
      "source": [
        "X = df.drop(['price', 'date'], axis=1)\n",
        "y = df['price']\n"
      ],
      "metadata": {
        "id": "5hvmYWDO_BgL"
      },
      "execution_count": null,
      "outputs": []
    },
    {
      "cell_type": "code",
      "source": [
        "from sklearn.model_selection import train_test_split\n",
        "X_train, X_test, y_train, y_test = train_test_split(X, y, test_size=0.2, random_state=42)"
      ],
      "metadata": {
        "id": "UTCO5Mr4A65d"
      },
      "execution_count": null,
      "outputs": []
    },
    {
      "cell_type": "code",
      "source": [
        "print(\"Training data shape:\", X_train.shape)\n",
        "print(\"Testing data shape:\", X_test.shape)\n",
        "print(\"Training target shape:\", y_train.shape)\n",
        "print(\"Testing target shape:\", y_test.shape)"
      ],
      "metadata": {
        "colab": {
          "base_uri": "https://localhost:8080/"
        },
        "id": "QlQp5tK3BALR",
        "outputId": "25639a38-077c-45bf-c2aa-738303b3baeb"
      },
      "execution_count": null,
      "outputs": [
        {
          "output_type": "stream",
          "name": "stdout",
          "text": [
            "Training data shape: (3680, 12)\n",
            "Testing data shape: (920, 12)\n",
            "Training target shape: (3680,)\n",
            "Testing target shape: (920,)\n"
          ]
        }
      ]
    },
    {
      "cell_type": "code",
      "source": [
        "from sklearn.linear_model import LinearRegression\n",
        "from sklearn.metrics import mean_absolute_error,mean_squared_error,r2_score"
      ],
      "metadata": {
        "id": "AA7UzEDsBFab"
      },
      "execution_count": null,
      "outputs": []
    },
    {
      "cell_type": "code",
      "source": [
        "model = LinearRegression()\n",
        "model.fit(X_train,y_train)"
      ],
      "metadata": {
        "colab": {
          "base_uri": "https://localhost:8080/",
          "height": 74
        },
        "id": "KbfU7DtvBkAo",
        "outputId": "6af61587-0b8f-49c6-cf75-43838a8d070e"
      },
      "execution_count": null,
      "outputs": [
        {
          "output_type": "execute_result",
          "data": {
            "text/plain": [
              "LinearRegression()"
            ],
            "text/html": [
              "<style>#sk-container-id-2 {color: black;background-color: white;}#sk-container-id-2 pre{padding: 0;}#sk-container-id-2 div.sk-toggleable {background-color: white;}#sk-container-id-2 label.sk-toggleable__label {cursor: pointer;display: block;width: 100%;margin-bottom: 0;padding: 0.3em;box-sizing: border-box;text-align: center;}#sk-container-id-2 label.sk-toggleable__label-arrow:before {content: \"▸\";float: left;margin-right: 0.25em;color: #696969;}#sk-container-id-2 label.sk-toggleable__label-arrow:hover:before {color: black;}#sk-container-id-2 div.sk-estimator:hover label.sk-toggleable__label-arrow:before {color: black;}#sk-container-id-2 div.sk-toggleable__content {max-height: 0;max-width: 0;overflow: hidden;text-align: left;background-color: #f0f8ff;}#sk-container-id-2 div.sk-toggleable__content pre {margin: 0.2em;color: black;border-radius: 0.25em;background-color: #f0f8ff;}#sk-container-id-2 input.sk-toggleable__control:checked~div.sk-toggleable__content {max-height: 200px;max-width: 100%;overflow: auto;}#sk-container-id-2 input.sk-toggleable__control:checked~label.sk-toggleable__label-arrow:before {content: \"▾\";}#sk-container-id-2 div.sk-estimator input.sk-toggleable__control:checked~label.sk-toggleable__label {background-color: #d4ebff;}#sk-container-id-2 div.sk-label input.sk-toggleable__control:checked~label.sk-toggleable__label {background-color: #d4ebff;}#sk-container-id-2 input.sk-hidden--visually {border: 0;clip: rect(1px 1px 1px 1px);clip: rect(1px, 1px, 1px, 1px);height: 1px;margin: -1px;overflow: hidden;padding: 0;position: absolute;width: 1px;}#sk-container-id-2 div.sk-estimator {font-family: monospace;background-color: #f0f8ff;border: 1px dotted black;border-radius: 0.25em;box-sizing: border-box;margin-bottom: 0.5em;}#sk-container-id-2 div.sk-estimator:hover {background-color: #d4ebff;}#sk-container-id-2 div.sk-parallel-item::after {content: \"\";width: 100%;border-bottom: 1px solid gray;flex-grow: 1;}#sk-container-id-2 div.sk-label:hover label.sk-toggleable__label {background-color: #d4ebff;}#sk-container-id-2 div.sk-serial::before {content: \"\";position: absolute;border-left: 1px solid gray;box-sizing: border-box;top: 0;bottom: 0;left: 50%;z-index: 0;}#sk-container-id-2 div.sk-serial {display: flex;flex-direction: column;align-items: center;background-color: white;padding-right: 0.2em;padding-left: 0.2em;position: relative;}#sk-container-id-2 div.sk-item {position: relative;z-index: 1;}#sk-container-id-2 div.sk-parallel {display: flex;align-items: stretch;justify-content: center;background-color: white;position: relative;}#sk-container-id-2 div.sk-item::before, #sk-container-id-2 div.sk-parallel-item::before {content: \"\";position: absolute;border-left: 1px solid gray;box-sizing: border-box;top: 0;bottom: 0;left: 50%;z-index: -1;}#sk-container-id-2 div.sk-parallel-item {display: flex;flex-direction: column;z-index: 1;position: relative;background-color: white;}#sk-container-id-2 div.sk-parallel-item:first-child::after {align-self: flex-end;width: 50%;}#sk-container-id-2 div.sk-parallel-item:last-child::after {align-self: flex-start;width: 50%;}#sk-container-id-2 div.sk-parallel-item:only-child::after {width: 0;}#sk-container-id-2 div.sk-dashed-wrapped {border: 1px dashed gray;margin: 0 0.4em 0.5em 0.4em;box-sizing: border-box;padding-bottom: 0.4em;background-color: white;}#sk-container-id-2 div.sk-label label {font-family: monospace;font-weight: bold;display: inline-block;line-height: 1.2em;}#sk-container-id-2 div.sk-label-container {text-align: center;}#sk-container-id-2 div.sk-container {/* jupyter's `normalize.less` sets `[hidden] { display: none; }` but bootstrap.min.css set `[hidden] { display: none !important; }` so we also need the `!important` here to be able to override the default hidden behavior on the sphinx rendered scikit-learn.org. See: https://github.com/scikit-learn/scikit-learn/issues/21755 */display: inline-block !important;position: relative;}#sk-container-id-2 div.sk-text-repr-fallback {display: none;}</style><div id=\"sk-container-id-2\" class=\"sk-top-container\"><div class=\"sk-text-repr-fallback\"><pre>LinearRegression()</pre><b>In a Jupyter environment, please rerun this cell to show the HTML representation or trust the notebook. <br />On GitHub, the HTML representation is unable to render, please try loading this page with nbviewer.org.</b></div><div class=\"sk-container\" hidden><div class=\"sk-item\"><div class=\"sk-estimator sk-toggleable\"><input class=\"sk-toggleable__control sk-hidden--visually\" id=\"sk-estimator-id-2\" type=\"checkbox\" checked><label for=\"sk-estimator-id-2\" class=\"sk-toggleable__label sk-toggleable__label-arrow\">LinearRegression</label><div class=\"sk-toggleable__content\"><pre>LinearRegression()</pre></div></div></div></div></div>"
            ]
          },
          "metadata": {},
          "execution_count": 39
        }
      ]
    },
    {
      "cell_type": "code",
      "source": [
        "y_pred = model.predict(X_train)"
      ],
      "metadata": {
        "id": "FuJ99NRVCKS4"
      },
      "execution_count": null,
      "outputs": []
    },
    {
      "cell_type": "code",
      "source": [
        "mae = mean_absolute_error(y_train, y_pred)\n",
        "mse = mean_squared_error(y_train, y_pred)\n",
        "r2 = r2_score(y_train, y_pred)"
      ],
      "metadata": {
        "id": "q5lI7oy2CTtG"
      },
      "execution_count": null,
      "outputs": []
    },
    {
      "cell_type": "code",
      "source": [
        "print(\"Mean Absolute Error (MAE):\", mae)\n",
        "print(\"Mean Squared Error (MSE):\", mse)\n",
        "print(\"R² Score:\", r2)"
      ],
      "metadata": {
        "colab": {
          "base_uri": "https://localhost:8080/"
        },
        "id": "17Cb7byiCZWP",
        "outputId": "46e2c88a-a170-42d4-97ad-573d344c2dbb"
      },
      "execution_count": null,
      "outputs": [
        {
          "output_type": "stream",
          "name": "stdout",
          "text": [
            "Mean Absolute Error (MAE): 158902.09762828372\n",
            "Mean Squared Error (MSE): 64764831210.21875\n",
            "R² Score: 0.544185359314763\n"
          ]
        }
      ]
    },
    {
      "cell_type": "code",
      "source": [
        "plt.figure(figsize=(10, 6))\n",
        "plt.scatter(y_test, y_pred, alpha=0.5)\n",
        "plt.plot([y_test.min(), y_test.max()], [y_test.min(), y_test.max()], 'r--', lw=2)\n",
        "plt.xlabel(\"Actual Prices\")\n",
        "plt.ylabel(\"Predicted Prices\")\n",
        "plt.title(\"Actual vs Predicted Prices\")\n",
        "plt.show()"
      ],
      "metadata": {
        "colab": {
          "base_uri": "https://localhost:8080/",
          "height": 564
        },
        "id": "SG6pZshNCz8-",
        "outputId": "75710a9f-5dc1-4b46-84e9-5c0de1499f03"
      },
      "execution_count": null,
      "outputs": [
        {
          "output_type": "display_data",
          "data": {
            "text/plain": [
              "<Figure size 1000x600 with 1 Axes>"
            ],
            "image/png": "[encoded data removed]"
          },
          "metadata": {}
        }
      ]
    },
    {
      "cell_type": "code",
      "source": [
        "print(\"R² Score (Accuracy):\", r2)"
      ],
      "metadata": {
        "colab": {
          "base_uri": "https://localhost:8080/"
        },
        "id": "8ONuEAo8C0xu",
        "outputId": "9f976ed1-f997-4134-e25a-0cb7277a4235"
      },
      "execution_count": null,
      "outputs": [
        {
          "output_type": "stream",
          "name": "stdout",
          "text": [
            "R² Score (Accuracy): 0.0322838566327589\n"
          ]
        }
      ]
    },
    {
      "cell_type": "code",
      "source": [
        "def rmse(y_test, y_pred):\n",
        "    return np.sqrt(np.mean(np.square(y_test- y_pred)))\n",
        "loss = rmse(y_test, y_pred)\n",
        "print('Loss:', loss)"
      ],
      "metadata": {
        "colab": {
          "base_uri": "https://localhost:8080/"
        },
        "id": "jNwkWz8fDcT-",
        "outputId": "8c959067-9dea-4b6d-bf9c-c0a64cfa6953"
      },
      "execution_count": null,
      "outputs": [
        {
          "output_type": "stream",
          "name": "stdout",
          "text": [
            "Loss: 993439.3625461714\n"
          ]
        }
      ]
    }
  ]
}